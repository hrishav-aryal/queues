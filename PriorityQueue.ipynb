{
 "cells": [
  {
   "cell_type": "code",
   "execution_count": 1,
   "id": "2a423806",
   "metadata": {},
   "outputs": [
    {
     "name": "stdout",
     "output_type": "stream",
     "text": [
      "Adding an element to the priority queue\n",
      "Queue: [(1, 'apple')]\n",
      "\n",
      "Popping an element from the priority queue\n",
      "Element popped: apple\n",
      "Queue: []\n"
     ]
    }
   ],
   "source": [
    "# 1 - importing queue\n",
    "import queue\n",
    "\n",
    "# 2 - creating priority queue object\n",
    "priorityQueueObj = queue.PriorityQueue()\n",
    "\n",
    "# 3 - adding an element to the priority queue\n",
    "print('Adding an element to the priority queue')\n",
    "priorityQueueObj.put((1, \"apple\"))\n",
    "print(\"Queue:\", list(priorityQueueObj.queue))\n",
    "\n",
    "print()\n",
    "\n",
    "# 4 - popping an element from the priority queue\n",
    "print('Popping an element from the priority queue')\n",
    "print(f'Element popped: {priorityQueueObj.get()[1]}')\n",
    "print(\"Queue:\", list(priorityQueueObj.queue))"
   ]
  },
  {
   "cell_type": "code",
   "execution_count": null,
   "id": "0bbd7743",
   "metadata": {},
   "outputs": [],
   "source": []
  }
 ],
 "metadata": {
  "kernelspec": {
   "display_name": "Python 3 (ipykernel)",
   "language": "python",
   "name": "python3"
  },
  "language_info": {
   "codemirror_mode": {
    "name": "ipython",
    "version": 3
   },
   "file_extension": ".py",
   "mimetype": "text/x-python",
   "name": "python",
   "nbconvert_exporter": "python",
   "pygments_lexer": "ipython3",
   "version": "3.10.12"
  }
 },
 "nbformat": 4,
 "nbformat_minor": 5
}
