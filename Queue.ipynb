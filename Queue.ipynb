{
 "cells": [
  {
   "cell_type": "code",
   "execution_count": 1,
   "id": "937ab74c",
   "metadata": {},
   "outputs": [
    {
     "name": "stdout",
     "output_type": "stream",
     "text": [
      "Adding an element to the queue\n",
      "Queue: ['apple']\n",
      "\n",
      "Popping an element from the queue\n",
      "Element popped: apple\n",
      "Queue: []\n"
     ]
    }
   ],
   "source": [
    "# 1 - importing queue\n",
    "import queue\n",
    "\n",
    "# 2 - creating queue object\n",
    "queueObj = queue.Queue()\n",
    "\n",
    "# 3 - adding an element to the queue\n",
    "print('Adding an element to the queue')\n",
    "queueObj.put('apple')\n",
    "print(\"Queue:\", list(queueObj.queue))\n",
    "\n",
    "print()\n",
    "\n",
    "# 4 - popping an element from the queue\n",
    "print('Popping an element from the queue')\n",
    "print(f'Element popped: {queueObj.get()}')\n",
    "print(\"Queue:\", list(queueObj.queue))"
   ]
  },
  {
   "cell_type": "code",
   "execution_count": null,
   "id": "2fb3787e",
   "metadata": {},
   "outputs": [],
   "source": []
  }
 ],
 "metadata": {
  "kernelspec": {
   "display_name": "Python 3 (ipykernel)",
   "language": "python",
   "name": "python3"
  },
  "language_info": {
   "codemirror_mode": {
    "name": "ipython",
    "version": 3
   },
   "file_extension": ".py",
   "mimetype": "text/x-python",
   "name": "python",
   "nbconvert_exporter": "python",
   "pygments_lexer": "ipython3",
   "version": "3.10.12"
  }
 },
 "nbformat": 4,
 "nbformat_minor": 5
}
